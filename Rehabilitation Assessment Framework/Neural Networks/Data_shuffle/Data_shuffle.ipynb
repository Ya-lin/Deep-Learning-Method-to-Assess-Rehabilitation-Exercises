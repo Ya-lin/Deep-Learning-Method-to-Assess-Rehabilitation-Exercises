{
 "cells": [
  {
   "cell_type": "markdown",
   "metadata": {},
   "source": [
    "This code is to produce the permutation to shuffle data. The permutation is saved as a csv file when the code ends."
   ]
  },
  {
   "cell_type": "code",
   "execution_count": 1,
   "metadata": {},
   "outputs": [],
   "source": [
    "import numpy as np\n",
    "import csv\n",
    "import os,random\n",
    "from __future__ import print_function"
   ]
  },
  {
   "cell_type": "code",
   "execution_count": 2,
   "metadata": {},
   "outputs": [],
   "source": [
    "# repetition number\n",
    "nr = [90, 55, 51, 70, 84, 73, 63, 63, 60, 54]"
   ]
  },
  {
   "cell_type": "code",
   "execution_count": 3,
   "metadata": {},
   "outputs": [],
   "source": [
    "for m in range(10):\n",
    "    # First shuffle the data indices to select random repetitions\n",
    "    trainidx1 = random.sample(range(0,nr[m]), int(0.7*nr[m]))\n",
    "    trainidx2 = random.sample(range(0,nr[m]), int(0.7*nr[m]))\n",
    "\n",
    "    # Find the remaining 20 indices after the random shuffling\n",
    "    valididx1 = np.setdiff1d(np.arange(0,nr[m],1),trainidx1)\n",
    "    valididx2 = np.setdiff1d(np.arange(0,nr[m],1),trainidx2)\n",
    "\n",
    "    # convert a list to array\n",
    "    trainidx1 = np.asarray(trainidx1, dtype = np.int32)\n",
    "    trainidx2 = np.asarray(trainidx2, dtype = np.int32)\n",
    "    valididx1 = np.asarray(valididx1, dtype = np.int32)\n",
    "    valididx2 = np.asarray(valididx2, dtype = np.int32)\n",
    "    # print(trainidx1.shape)\n",
    "    # print(trainidx2.shape)\n",
    "    # print(valididx1.shape)\n",
    "    # print(valididx2.shape)\n",
    "\n",
    "    # combine shuffle\n",
    "    indices = np.concatenate((trainidx1, valididx1, trainidx2, valididx2))\n",
    "    # print(indice)\n",
    "\n",
    "    # save shuffle\n",
    "    np.savetxt('M'+str(m+1)+'_Shuffled_Indices.csv', indices,  fmt='%d',delimiter=',')"
   ]
  },
  {
   "cell_type": "code",
   "execution_count": null,
   "metadata": {},
   "outputs": [],
   "source": []
  }
 ],
 "metadata": {
  "kernelspec": {
   "display_name": "Python 3",
   "language": "python",
   "name": "python3"
  },
  "language_info": {
   "codemirror_mode": {
    "name": "ipython",
    "version": 3
   },
   "file_extension": ".py",
   "mimetype": "text/x-python",
   "name": "python",
   "nbconvert_exporter": "python",
   "pygments_lexer": "ipython3",
   "version": "3.6.5"
  }
 },
 "nbformat": 4,
 "nbformat_minor": 2
}
